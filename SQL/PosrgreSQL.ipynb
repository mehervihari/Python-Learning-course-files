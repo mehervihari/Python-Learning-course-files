{
 "cells": [
  {
   "cell_type": "code",
   "execution_count": 4,
   "id": "committed-preview",
   "metadata": {},
   "outputs": [
    {
     "data": {
      "text/plain": [
       "[('0005432159776', 30625, 'Business', Decimal('42100.00')),\n",
       " ('0005435212351', 30625, 'Business', Decimal('42100.00')),\n",
       " ('0005435212386', 30625, 'Business', Decimal('42100.00')),\n",
       " ('0005435212381', 30625, 'Business', Decimal('42100.00')),\n",
       " ('0005432211370', 30625, 'Business', Decimal('42100.00')),\n",
       " ('0005435212357', 30625, 'Comfort', Decimal('23900.00'))]"
      ]
     },
     "execution_count": 4,
     "metadata": {},
     "output_type": "execute_result"
    }
   ],
   "source": [
    "import psycopg2 as pg2\n",
    "conn = pg2.connect(database = 'Airlinesone', user = 'postgres', password = 654321, port = 5432)\n",
    "cur = conn.cursor()\n",
    "cur.execute('SELECT * FROM ticket_flights')\n",
    "cur.fetchmany(6)"
   ]
  },
  {
   "cell_type": "code",
   "execution_count": null,
   "id": "exterior-tourist",
   "metadata": {},
   "outputs": [],
   "source": []
  },
  {
   "cell_type": "code",
   "execution_count": null,
   "id": "comparable-reply",
   "metadata": {},
   "outputs": [],
   "source": []
  }
 ],
 "metadata": {
  "kernelspec": {
   "display_name": "Python 3",
   "language": "python",
   "name": "python3"
  },
  "language_info": {
   "codemirror_mode": {
    "name": "ipython",
    "version": 3
   },
   "file_extension": ".py",
   "mimetype": "text/x-python",
   "name": "python",
   "nbconvert_exporter": "python",
   "pygments_lexer": "ipython3",
   "version": "3.8.8"
  }
 },
 "nbformat": 4,
 "nbformat_minor": 5
}
