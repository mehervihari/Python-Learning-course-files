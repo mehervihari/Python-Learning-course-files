{
  "nbformat": 4,
  "nbformat_minor": 0,
  "metadata": {
    "colab": {
      "name": "DataTypes.ipynb",
      "provenance": [],
      "collapsed_sections": []
    },
    "kernelspec": {
      "name": "python3",
      "display_name": "Python 3"
    }
  },
  "cells": [
    {
      "cell_type": "code",
      "metadata": {
        "colab": {
          "base_uri": "https://localhost:8080/"
        },
        "id": "cZAG7BdIsyBf",
        "outputId": "1b059b93-ea20-4822-e122-bb41d6b632e9"
      },
      "source": [
        "print (\"hello world\")"
      ],
      "execution_count": null,
      "outputs": [
        {
          "output_type": "stream",
          "text": [
            "hello world\n"
          ],
          "name": "stdout"
        }
      ]
    },
    {
      "cell_type": "code",
      "metadata": {
        "id": "cLEwIRg-tC7l",
        "colab": {
          "base_uri": "https://localhost:8080/"
        },
        "outputId": "f8554953-fa32-4c0f-9e95-25f9779d24fe"
      },
      "source": [
        "a=1\n",
        "b=2\n",
        "c=3\n",
        "print (a+b+c)"
      ],
      "execution_count": null,
      "outputs": [
        {
          "output_type": "stream",
          "text": [
            "6\n"
          ],
          "name": "stdout"
        }
      ]
    },
    {
      "cell_type": "code",
      "metadata": {
        "colab": {
          "base_uri": "https://localhost:8080/"
        },
        "id": "sKYalh3zqqsC",
        "outputId": "9e351499-f91a-426c-8eeb-cc00c40350ab"
      },
      "source": [
        "#checking data type\n",
        "type(2)"
      ],
      "execution_count": null,
      "outputs": [
        {
          "output_type": "execute_result",
          "data": {
            "text/plain": [
              "int"
            ]
          },
          "metadata": {
            "tags": []
          },
          "execution_count": 2
        }
      ]
    },
    {
      "cell_type": "code",
      "metadata": {
        "colab": {
          "base_uri": "https://localhost:8080/"
        },
        "id": "L47wRZ4iqwDU",
        "outputId": "4fd636b1-be5e-418a-f61c-584d93ff8995"
      },
      "source": [
        "type(-2)"
      ],
      "execution_count": null,
      "outputs": [
        {
          "output_type": "execute_result",
          "data": {
            "text/plain": [
              "int"
            ]
          },
          "metadata": {
            "tags": []
          },
          "execution_count": 3
        }
      ]
    },
    {
      "cell_type": "code",
      "metadata": {
        "colab": {
          "base_uri": "https://localhost:8080/"
        },
        "id": "-s-xmuk1rDCa",
        "outputId": "2231161c-0984-40da-d48a-b5997029d053"
      },
      "source": [
        "my_int = -4\n",
        "print(my_int)\n",
        "my_math = 10-(-2)\n",
        "print(my_math)"
      ],
      "execution_count": null,
      "outputs": [
        {
          "output_type": "stream",
          "text": [
            "-4\n",
            "12\n"
          ],
          "name": "stdout"
        }
      ]
    },
    {
      "cell_type": "code",
      "metadata": {
        "colab": {
          "base_uri": "https://localhost:8080/"
        },
        "id": "K__NNdjpsDE1",
        "outputId": "02bbeaae-fb3a-4380-b42d-9407e97d467b"
      },
      "source": [
        "my_float = -1.2;\n",
        "print(my_float);\n",
        "float_math = -10.4 + 20.6\n",
        "print(float_math)\n",
        "print(round(float_math,2))"
      ],
      "execution_count": null,
      "outputs": [
        {
          "output_type": "stream",
          "text": [
            "-1.2\n",
            "10.200000000000001\n",
            "10.2\n"
          ],
          "name": "stdout"
        }
      ]
    },
    {
      "cell_type": "code",
      "metadata": {
        "colab": {
          "base_uri": "https://localhost:8080/"
        },
        "id": "2ru49ETMtoV8",
        "outputId": "11de122d-a7da-4ab6-f191-3a7b42fc9e55"
      },
      "source": [
        "2 > 3"
      ],
      "execution_count": null,
      "outputs": [
        {
          "output_type": "execute_result",
          "data": {
            "text/plain": [
              "False"
            ]
          },
          "metadata": {
            "tags": []
          },
          "execution_count": 14
        }
      ]
    },
    {
      "cell_type": "code",
      "metadata": {
        "colab": {
          "base_uri": "https://localhost:8080/"
        },
        "id": "FIwbYwP5tp1u",
        "outputId": "6d7b7729-8eea-4f5a-c53a-0169ff27250b"
      },
      "source": [
        "333 > 222"
      ],
      "execution_count": null,
      "outputs": [
        {
          "output_type": "execute_result",
          "data": {
            "text/plain": [
              "True"
            ]
          },
          "metadata": {
            "tags": []
          },
          "execution_count": 15
        }
      ]
    },
    {
      "cell_type": "code",
      "metadata": {
        "colab": {
          "base_uri": "https://localhost:8080/"
        },
        "id": "0Q1AKS9aty0m",
        "outputId": "810f98b1-1a26-4f55-877b-fb5638e8b1f8"
      },
      "source": [
        "20 < 30"
      ],
      "execution_count": null,
      "outputs": [
        {
          "output_type": "execute_result",
          "data": {
            "text/plain": [
              "True"
            ]
          },
          "metadata": {
            "tags": []
          },
          "execution_count": 16
        }
      ]
    },
    {
      "cell_type": "code",
      "metadata": {
        "colab": {
          "base_uri": "https://localhost:8080/"
        },
        "id": "vTfbBseCt2gY",
        "outputId": "ad28ce1e-d19d-4649-ab05-07e65192140c"
      },
      "source": [
        "3 == 3"
      ],
      "execution_count": null,
      "outputs": [
        {
          "output_type": "execute_result",
          "data": {
            "text/plain": [
              "True"
            ]
          },
          "metadata": {
            "tags": []
          },
          "execution_count": 19
        }
      ]
    },
    {
      "cell_type": "code",
      "metadata": {
        "colab": {
          "base_uri": "https://localhost:8080/"
        },
        "id": "RqQpsTHxuDlQ",
        "outputId": "df6cf371-7db5-414c-94b9-9551945cb71b"
      },
      "source": [
        "3 == 4"
      ],
      "execution_count": null,
      "outputs": [
        {
          "output_type": "execute_result",
          "data": {
            "text/plain": [
              "False"
            ]
          },
          "metadata": {
            "tags": []
          },
          "execution_count": 20
        }
      ]
    },
    {
      "cell_type": "code",
      "metadata": {
        "colab": {
          "base_uri": "https://localhost:8080/"
        },
        "id": "VamTGmwQuNix",
        "outputId": "10598c16-90d4-490d-e6b3-20b82f7cadcd"
      },
      "source": [
        "my_bool = 5 > 7\n",
        "print(my_bool)"
      ],
      "execution_count": null,
      "outputs": [
        {
          "output_type": "stream",
          "text": [
            "False\n"
          ],
          "name": "stdout"
        }
      ]
    },
    {
      "cell_type": "code",
      "metadata": {
        "colab": {
          "base_uri": "https://localhost:8080/"
        },
        "id": "13QoLUqEuSDE",
        "outputId": "cc6b2ca2-b151-4d88-8262-8ed51e9edf00"
      },
      "source": [
        "my_str = 'hello, world'\n",
        "print(my_str)"
      ],
      "execution_count": null,
      "outputs": [
        {
          "output_type": "stream",
          "text": [
            "hello, world\n"
          ],
          "name": "stdout"
        }
      ]
    },
    {
      "cell_type": "code",
      "metadata": {
        "colab": {
          "base_uri": "https://localhost:8080/"
        },
        "id": "Pj4nsJ9HvH9-",
        "outputId": "d5ab99cf-b5f4-41de-848e-1a3a07bda9df"
      },
      "source": [
        "# lists and functions\n",
        "my_list1 = [1, -3, 5.0, 10]\n",
        "print(my_list1)"
      ],
      "execution_count": null,
      "outputs": [
        {
          "output_type": "stream",
          "text": [
            "[1, -3, 5.0, 10]\n"
          ],
          "name": "stdout"
        }
      ]
    },
    {
      "cell_type": "code",
      "metadata": {
        "colab": {
          "base_uri": "https://localhost:8080/"
        },
        "id": "BFks7KPnnbpu",
        "outputId": "2da19b92-010f-441f-f780-0de4086ae86b"
      },
      "source": [
        "# print 2nd item in list, (-1) for last item\n",
        "print(my_list1[1])"
      ],
      "execution_count": null,
      "outputs": [
        {
          "output_type": "stream",
          "text": [
            "-3\n"
          ],
          "name": "stdout"
        }
      ]
    },
    {
      "cell_type": "code",
      "metadata": {
        "colab": {
          "base_uri": "https://localhost:8080/"
        },
        "id": "FQLhFiQNoSys",
        "outputId": "d79c8a3f-de1e-4945-891c-ccfb8cecf18b"
      },
      "source": [
        "# range of indexes\n",
        "print(my_list1[2:4])\n",
        "print(my_list1[:2])\n",
        "print(my_list1[2:])"
      ],
      "execution_count": null,
      "outputs": [
        {
          "output_type": "stream",
          "text": [
            "[5.0, 10]\n",
            "[1, -3]\n",
            "[5.0, 10]\n"
          ],
          "name": "stdout"
        }
      ]
    },
    {
      "cell_type": "code",
      "metadata": {
        "colab": {
          "base_uri": "https://localhost:8080/"
        },
        "id": "kVAH37iapqa1",
        "outputId": "1ca5eb1b-d9cc-44c9-f4e9-218f66eca3dc"
      },
      "source": [
        "# negative indexing\n",
        "print(my_list1[-3:-1])\n",
        "print(my_list1[-1])"
      ],
      "execution_count": null,
      "outputs": [
        {
          "output_type": "stream",
          "text": [
            "[-3, 5.0]\n",
            "10\n"
          ],
          "name": "stdout"
        }
      ]
    },
    {
      "cell_type": "code",
      "metadata": {
        "colab": {
          "base_uri": "https://localhost:8080/"
        },
        "id": "4btVG9dOwAUa",
        "outputId": "c6263d8e-f32f-4e26-8784-f0934179f685"
      },
      "source": [
        "my_list2 = [2.6, 4.5, 'well', 'ill']\n",
        "print(my_list2)"
      ],
      "execution_count": null,
      "outputs": [
        {
          "output_type": "stream",
          "text": [
            "[2.6, 4.5, 'well', 'ill']\n"
          ],
          "name": "stdout"
        }
      ]
    },
    {
      "cell_type": "code",
      "metadata": {
        "colab": {
          "base_uri": "https://localhost:8080/"
        },
        "id": "Gqv71SCJqR0G",
        "outputId": "99dffce8-6e56-4042-eede-044b08c7795c"
      },
      "source": [
        "# modifying lists\n",
        "my_list2[1] = \"replace\"\n",
        "print(my_list2)"
      ],
      "execution_count": null,
      "outputs": [
        {
          "output_type": "stream",
          "text": [
            "[2.6, 'replace', 'well', 'ill']\n"
          ],
          "name": "stdout"
        }
      ]
    },
    {
      "cell_type": "code",
      "metadata": {
        "colab": {
          "base_uri": "https://localhost:8080/"
        },
        "id": "RnuHLy06sKYL",
        "outputId": "c0ad9b98-3e7a-43e5-cce8-5dd4c933b23b"
      },
      "source": [
        "#Using the append() method to append an item:\n",
        "my_list2.append(\"newitem\")\n",
        "print(my_list2)"
      ],
      "execution_count": null,
      "outputs": [
        {
          "output_type": "stream",
          "text": [
            "[2.6, 4.5, 'well', 'ill', 'newitem']\n"
          ],
          "name": "stdout"
        }
      ]
    },
    {
      "cell_type": "code",
      "metadata": {
        "colab": {
          "base_uri": "https://localhost:8080/"
        },
        "id": "xA-Wy5gosgmz",
        "outputId": "b3ccaafe-ba5f-4886-8e65-2f2f0ac2a118"
      },
      "source": [
        "#To insert a list item at a specified index, use the insert() method.\n",
        "my_list2.insert(2, \"insertitem\")\n",
        "print(my_list2)"
      ],
      "execution_count": null,
      "outputs": [
        {
          "output_type": "stream",
          "text": [
            "[2.6, 4.5, 'insertitem', 'well', 'ill', 'newitem']\n"
          ],
          "name": "stdout"
        }
      ]
    },
    {
      "cell_type": "code",
      "metadata": {
        "colab": {
          "base_uri": "https://localhost:8080/"
        },
        "id": "fHwwCJybs0MS",
        "outputId": "c673dc4b-2b66-4035-c117-b22f8ffa5e35"
      },
      "source": [
        "#The pop() method removes the specified index.\n",
        "#If you do not specify the index, the pop() method removes the last item.\n",
        "my_list2.pop()\n",
        "print(my_list2)"
      ],
      "execution_count": null,
      "outputs": [
        {
          "output_type": "stream",
          "text": [
            "[2.6, 'insertitem', 'well', 'ill', 'newitem']\n"
          ],
          "name": "stdout"
        }
      ]
    },
    {
      "cell_type": "code",
      "metadata": {
        "colab": {
          "base_uri": "https://localhost:8080/"
        },
        "id": "9RH7HJ1vxOg1",
        "outputId": "5e909855-1194-4163-a8b8-d2671d9c2a47"
      },
      "source": [
        "# clear list\n",
        "my_list2.clear()\n",
        "print(my_list2)"
      ],
      "execution_count": null,
      "outputs": [
        {
          "output_type": "stream",
          "text": [
            "[]\n"
          ],
          "name": "stdout"
        }
      ]
    },
    {
      "cell_type": "code",
      "metadata": {
        "colab": {
          "base_uri": "https://localhost:8080/"
        },
        "id": "kd3SE7NnwOLk",
        "outputId": "b2d21174-b5ba-42fd-aa66-62836d555b55"
      },
      "source": [
        "# tuples\n",
        "my_tuple = (2.6, 4.5, 'well', 'ill')\n",
        "print(my_tuple)"
      ],
      "execution_count": null,
      "outputs": [
        {
          "output_type": "stream",
          "text": [
            "(2.6, 4.5, 'well', 'ill')\n"
          ],
          "name": "stdout"
        }
      ]
    },
    {
      "cell_type": "code",
      "metadata": {
        "colab": {
          "base_uri": "https://localhost:8080/"
        },
        "id": "4YBji79Pw9zt",
        "outputId": "09afa6e8-84e7-492b-dab1-4cb816626cfb"
      },
      "source": [
        "students = {'ramesh': 10,'suresh': 20, 'mahesh':30}\n",
        "print(students)"
      ],
      "execution_count": null,
      "outputs": [
        {
          "output_type": "stream",
          "text": [
            "{'ramesh': 10, 'suresh': 20, 'mahesh': 30}\n"
          ],
          "name": "stdout"
        }
      ]
    },
    {
      "cell_type": "code",
      "metadata": {
        "colab": {
          "base_uri": "https://localhost:8080/"
        },
        "id": "Xy3tGal4x4-O",
        "outputId": "afc83563-cc5a-4ae4-d6bd-04f37cd7873f"
      },
      "source": [
        "my_set = {'c', -2, 'sara', 300, 2.2}\n",
        "my_set.pop()\n",
        "print(my_set)"
      ],
      "execution_count": null,
      "outputs": [
        {
          "output_type": "stream",
          "text": [
            "{'sara', 300, 'c', -2}\n"
          ],
          "name": "stdout"
        }
      ]
    },
    {
      "cell_type": "code",
      "metadata": {
        "colab": {
          "base_uri": "https://localhost:8080/"
        },
        "id": "sOqUXqsKyrbB",
        "outputId": "47ed9f0d-4da7-48cf-be64-55dadab5a3b4"
      },
      "source": [
        "my_frozen_set = frozenset(my_set)\n",
        "#my_frozen_set.pop()\n",
        "print(my_frozen_set)"
      ],
      "execution_count": null,
      "outputs": [
        {
          "output_type": "stream",
          "text": [
            "frozenset({'sara', 300, -2, 'c'})\n"
          ],
          "name": "stdout"
        }
      ]
    },
    {
      "cell_type": "markdown",
      "metadata": {
        "id": "J6oElWwxzZBp"
      },
      "source": [
        "convert from one data type to another"
      ]
    },
    {
      "cell_type": "code",
      "metadata": {
        "colab": {
          "base_uri": "https://localhost:8080/"
        },
        "id": "1hMH742rzcne",
        "outputId": "6b4990e6-73c5-4481-a28a-0a8b064680ae"
      },
      "source": [
        "int(10.2)"
      ],
      "execution_count": null,
      "outputs": [
        {
          "output_type": "execute_result",
          "data": {
            "text/plain": [
              "10"
            ]
          },
          "metadata": {
            "tags": []
          },
          "execution_count": 34
        }
      ]
    },
    {
      "cell_type": "code",
      "metadata": {
        "colab": {
          "base_uri": "https://localhost:8080/"
        },
        "id": "1no-0TeEzrPR",
        "outputId": "972a0127-4b30-480e-9e06-3943fefc71f5"
      },
      "source": [
        "float(2)"
      ],
      "execution_count": null,
      "outputs": [
        {
          "output_type": "execute_result",
          "data": {
            "text/plain": [
              "2.0"
            ]
          },
          "metadata": {
            "tags": []
          },
          "execution_count": 35
        }
      ]
    },
    {
      "cell_type": "code",
      "metadata": {
        "colab": {
          "base_uri": "https://localhost:8080/"
        },
        "id": "fwFcxbdb0jux",
        "outputId": "6ff6d8d6-6379-4cc3-ffc3-87d8a18cbbed"
      },
      "source": [
        "carname = '10'\n",
        "int(carname)"
      ],
      "execution_count": null,
      "outputs": [
        {
          "output_type": "execute_result",
          "data": {
            "text/plain": [
              "10"
            ]
          },
          "metadata": {
            "tags": []
          },
          "execution_count": 37
        }
      ]
    },
    {
      "cell_type": "code",
      "metadata": {
        "colab": {
          "base_uri": "https://localhost:8080/"
        },
        "id": "BbPQT_09fIlK",
        "outputId": "638c90ea-e6aa-4c6f-9381-27bb5e461b06"
      },
      "source": [
        "type(2 + 3j)"
      ],
      "execution_count": null,
      "outputs": [
        {
          "output_type": "execute_result",
          "data": {
            "text/plain": [
              "complex"
            ]
          },
          "metadata": {
            "tags": []
          },
          "execution_count": 6
        }
      ]
    }
  ]
}