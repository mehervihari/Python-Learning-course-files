{
  "nbformat": 4,
  "nbformat_minor": 0,
  "metadata": {
    "colab": {
      "name": "PythonStrings.ipynb",
      "provenance": [],
      "collapsed_sections": []
    },
    "kernelspec": {
      "name": "python3",
      "display_name": "Python 3"
    }
  },
  "cells": [
    {
      "cell_type": "code",
      "metadata": {
        "colab": {
          "base_uri": "https://localhost:8080/"
        },
        "id": "HOR-aSqwxH2v",
        "outputId": "df279717-f6ef-4f72-a278-c0b0dcd6f4ba"
      },
      "source": [
        "print (\"welcome to python strings\")"
      ],
      "execution_count": null,
      "outputs": [
        {
          "output_type": "stream",
          "text": [
            "welcome to python strings\n"
          ],
          "name": "stdout"
        }
      ]
    },
    {
      "cell_type": "code",
      "metadata": {
        "id": "3aqm35GPs2O3"
      },
      "source": [
        "a = \"powerful\"; b = \"elegant\""
      ],
      "execution_count": null,
      "outputs": []
    },
    {
      "cell_type": "code",
      "metadata": {
        "colab": {
          "base_uri": "https://localhost:8080/"
        },
        "id": "dlvr71Joq83-",
        "outputId": "8c3df549-d94c-42be-b389-75573e8743cd"
      },
      "source": [
        "#string length and slicing\n",
        "print(len(b))\n",
        "print(a)"
      ],
      "execution_count": null,
      "outputs": [
        {
          "output_type": "stream",
          "text": [
            "7\n",
            "powerful\n"
          ],
          "name": "stdout"
        }
      ]
    },
    {
      "cell_type": "code",
      "metadata": {
        "colab": {
          "base_uri": "https://localhost:8080/"
        },
        "id": "sVdTb1rJrC6H",
        "outputId": "90fb4e19-ea56-4055-8364-24702d4d3b3b"
      },
      "source": [
        "#length of str\n",
        "print(len(a))"
      ],
      "execution_count": null,
      "outputs": [
        {
          "output_type": "stream",
          "text": [
            "8\n"
          ],
          "name": "stdout"
        }
      ]
    },
    {
      "cell_type": "code",
      "metadata": {
        "colab": {
          "base_uri": "https://localhost:8080/"
        },
        "id": "C8XAey90rLAe",
        "outputId": "9241c6f2-e1ea-4ddb-ef5d-b3be0d5f1be9"
      },
      "source": [
        "print((a[0:3]))"
      ],
      "execution_count": null,
      "outputs": [
        {
          "output_type": "stream",
          "text": [
            "pow\n"
          ],
          "name": "stdout"
        }
      ]
    },
    {
      "cell_type": "code",
      "metadata": {
        "colab": {
          "base_uri": "https://localhost:8080/"
        },
        "id": "8Dc40kKCrssN",
        "outputId": "9cfaf442-1a79-4a52-96d7-90747ce4299b"
      },
      "source": [
        "# slicing\n",
        "print((a)[0:3])"
      ],
      "execution_count": null,
      "outputs": [
        {
          "output_type": "stream",
          "text": [
            "pow\n"
          ],
          "name": "stdout"
        }
      ]
    },
    {
      "cell_type": "code",
      "metadata": {
        "colab": {
          "base_uri": "https://localhost:8080/"
        },
        "id": "JEnWLI6JsDUj",
        "outputId": "1cbf39b9-1297-4e5e-af51-60843b037128"
      },
      "source": [
        "nameOfProglang = \"python\"\n",
        "print(len(nameOfProglang))"
      ],
      "execution_count": null,
      "outputs": [
        {
          "output_type": "stream",
          "text": [
            "6\n"
          ],
          "name": "stdout"
        }
      ]
    },
    {
      "cell_type": "code",
      "metadata": {
        "colab": {
          "base_uri": "https://localhost:8080/"
        },
        "id": "1OxXI5qhu8wc",
        "outputId": "c7a23cd4-d330-4719-8257-9bdfee80f248"
      },
      "source": [
        "#frequency of a specific letter in a string\n",
        "msgc = \"speed thrills but kills\"\n",
        "print(len(msgc))"
      ],
      "execution_count": null,
      "outputs": [
        {
          "output_type": "stream",
          "text": [
            "23\n"
          ],
          "name": "stdout"
        }
      ]
    },
    {
      "cell_type": "code",
      "metadata": {
        "colab": {
          "base_uri": "https://localhost:8080/"
        },
        "id": "ug9wxGlEyU5r",
        "outputId": "5bb5a74a-2d73-49c1-bdf9-9d65c1b28b05"
      },
      "source": [
        "msgc.count('i')"
      ],
      "execution_count": null,
      "outputs": [
        {
          "output_type": "execute_result",
          "data": {
            "text/plain": [
              "2"
            ]
          },
          "metadata": {
            "tags": []
          },
          "execution_count": 19
        }
      ]
    },
    {
      "cell_type": "code",
      "metadata": {
        "colab": {
          "base_uri": "https://localhost:8080/"
        },
        "id": "7-uRrxgSwjjj",
        "outputId": "072a5f28-0392-458b-d6d3-20263e082f96"
      },
      "source": [
        "#count with 2 args, gives count from that index\n",
        "msgc.count('i',10)"
      ],
      "execution_count": null,
      "outputs": [
        {
          "output_type": "execute_result",
          "data": {
            "text/plain": [
              "1"
            ]
          },
          "metadata": {
            "tags": []
          },
          "execution_count": 9
        }
      ]
    },
    {
      "cell_type": "code",
      "metadata": {
        "colab": {
          "base_uri": "https://localhost:8080/"
        },
        "id": "dJFa5iuSviCc",
        "outputId": "d13a67ed-7256-432b-ff02-c0c11f2b3632"
      },
      "source": [
        "msgc.count(\"l\",11)"
      ],
      "execution_count": null,
      "outputs": [
        {
          "output_type": "execute_result",
          "data": {
            "text/plain": [
              "3"
            ]
          },
          "metadata": {
            "tags": []
          },
          "execution_count": 13
        }
      ]
    },
    {
      "cell_type": "code",
      "metadata": {
        "colab": {
          "base_uri": "https://localhost:8080/"
        },
        "id": "aS3Vx1divuDd",
        "outputId": "e1d76032-c8c2-4988-9c2e-7b84492155d1"
      },
      "source": [
        "msgc.count('B')"
      ],
      "execution_count": null,
      "outputs": [
        {
          "output_type": "execute_result",
          "data": {
            "text/plain": [
              "0"
            ]
          },
          "metadata": {
            "tags": []
          },
          "execution_count": 20
        }
      ]
    },
    {
      "cell_type": "code",
      "metadata": {
        "colab": {
          "base_uri": "https://localhost:8080/"
        },
        "id": "ceysa4-xvz5T",
        "outputId": "390b1755-f260-40dd-bdcc-04846ba3ab00"
      },
      "source": [
        "msgc.count('l',11)"
      ],
      "execution_count": null,
      "outputs": [
        {
          "output_type": "execute_result",
          "data": {
            "text/plain": [
              "3"
            ]
          },
          "metadata": {
            "tags": []
          },
          "execution_count": 24
        }
      ]
    },
    {
      "cell_type": "code",
      "metadata": {
        "colab": {
          "base_uri": "https://localhost:8080/"
        },
        "id": "CIDNaBhZwoDi",
        "outputId": "1821aa72-c8e3-4112-ce5b-7722570b595d"
      },
      "source": [
        "#count with 3 args, gives count between those indexes\n",
        "msgc.count('l',11,15)"
      ],
      "execution_count": null,
      "outputs": [
        {
          "output_type": "execute_result",
          "data": {
            "text/plain": [
              "1"
            ]
          },
          "metadata": {
            "tags": []
          },
          "execution_count": 20
        }
      ]
    },
    {
      "cell_type": "code",
      "metadata": {
        "colab": {
          "base_uri": "https://localhost:8080/"
        },
        "id": "xLUYMwC5xAc-",
        "outputId": "c16a42f5-fe55-4777-9840-081fa586d26d"
      },
      "source": [
        "# counting vowels in a given string\n",
        "str1 = \"are you working as a Python programmer ?\"\n",
        "str1_vowel_lower_count = str1.count('a') + str1.count('e') + str1.count('i') + str1.count('o') + str1.count('u')                          \n",
        "print(str1_vowel_lower_count)"
      ],
      "execution_count": null,
      "outputs": [
        {
          "output_type": "stream",
          "text": [
            "12\n"
          ],
          "name": "stdout"
        }
      ]
    },
    {
      "cell_type": "code",
      "metadata": {
        "colab": {
          "base_uri": "https://localhost:8080/"
        },
        "id": "pHJdE0Odi1Vn",
        "outputId": "0e68dadc-8c18-4da6-e7da-49f554784f2b"
      },
      "source": [
        "#The format() method takes the passed arguments, formats them, and places them in the string where the placeholders {} are:\n",
        "fstr = \"python is a {} & {} language\".format(a,b)\n",
        "print(fstr)"
      ],
      "execution_count": null,
      "outputs": [
        {
          "output_type": "stream",
          "text": [
            "python is a powerful & elegant language\n"
          ],
          "name": "stdout"
        }
      ]
    },
    {
      "cell_type": "code",
      "metadata": {
        "colab": {
          "base_uri": "https://localhost:8080/"
        },
        "id": "yHUErBmpCnI2",
        "outputId": "83f15329-fec1-431d-aae8-16432abd725a"
      },
      "source": [
        "# length of a message and presence of letters in it\n",
        "msg1 = 'The python programming language is easy and helpful'\n",
        "msg2 = 'The python programming language is wonderful'\n",
        "msg3 = 'The python programming language is elgantful'\n",
        "print(len(msg1),len(msg2),len(msg3))\n",
        "print(msg1.count('p'),msg2.count('o'),msg3.count('r'))\n",
        "print(msg1.startswith('T'))\n",
        "print(msg2.startswith('h'))\n",
        "print(msg3.startswith('t'))\n",
        "print(msg1.endswith('l'))\n",
        "print(msg2.endswith('i'))\n",
        "print(msg3.endswith('L'))"
      ],
      "execution_count": null,
      "outputs": [
        {
          "output_type": "stream",
          "text": [
            "51 44 44\n",
            "3 3 2\n",
            "True\n",
            "False\n",
            "False\n",
            "True\n",
            "False\n",
            "False\n"
          ],
          "name": "stdout"
        }
      ]
    },
    {
      "cell_type": "code",
      "metadata": {
        "colab": {
          "base_uri": "https://localhost:8080/"
        },
        "id": "xJ98q2oeDu3D",
        "outputId": "b3fbbfbb-7eda-47a8-8e81-9d8d7c301d4b"
      },
      "source": [
        "#returns index of 1st occurence of a character or substring in a string\n",
        "print('this is user_manual'.find('user'))\n",
        "'this is user_manual'.find('i')"
      ],
      "execution_count": null,
      "outputs": [
        {
          "output_type": "stream",
          "text": [
            "8\n"
          ],
          "name": "stdout"
        },
        {
          "output_type": "execute_result",
          "data": {
            "text/plain": [
              "2"
            ]
          },
          "metadata": {
            "tags": []
          },
          "execution_count": 13
        }
      ]
    },
    {
      "cell_type": "code",
      "metadata": {
        "colab": {
          "base_uri": "https://localhost:8080/"
        },
        "id": "S-EGTqCJGgSK",
        "outputId": "cedc87bb-51d0-4c4c-e04b-89e381806ca1"
      },
      "source": [
        "inst_msg = 'Dont turn left xyz!'\n",
        "print(inst_msg.find('!'),inst_msg.index('!'),inst_msg.find('m'))\n",
        "# checking case of a string\n",
        "print(inst_msg.lower(),\",\",\n",
        "      inst_msg.upper())"
      ],
      "execution_count": null,
      "outputs": [
        {
          "output_type": "stream",
          "text": [
            "18 18 -1\n",
            "dont turn left xyz! , DONT TURN LEFT XYZ!\n"
          ],
          "name": "stdout"
        }
      ]
    },
    {
      "cell_type": "code",
      "metadata": {
        "colab": {
          "base_uri": "https://localhost:8080/"
        },
        "id": "6q2trYRMr0MH",
        "outputId": "7315d934-b35e-4c14-b30d-42c044b4c465"
      },
      "source": [
        "#replace and strip functions of a string\n",
        "stat_msg = 'The coding is fun'\n",
        "print(stat_msg.replace('fun','fantastic'))\n",
        "print(stat_msg.strip('The'))"
      ],
      "execution_count": null,
      "outputs": [
        {
          "output_type": "stream",
          "text": [
            "The coding is fantastic\n",
            " coding is fun\n"
          ],
          "name": "stdout"
        }
      ]
    },
    {
      "cell_type": "code",
      "metadata": {
        "colab": {
          "base_uri": "https://localhost:8080/"
        },
        "id": "5Sgey2QftcPj",
        "outputId": "8dbbe6e5-e2e3-4686-93df-7cefd4049a5e"
      },
      "source": [
        "#other different string functions\n",
        "string = 'python is powerful language'\n",
        "print(string.capitalize())#1st letter to captital\n",
        "string = 'pYTHON IS POWERFUL PROGRAMMING LANGUAGE'\n",
        "print(string.swapcase())#change the case\n",
        "string = 'Python the powErFUL programming language'\n",
        "print(string.title())# like title"
      ],
      "execution_count": null,
      "outputs": [
        {
          "output_type": "stream",
          "text": [
            "Python is powerful language\n",
            "Python is powerful programming language\n",
            "Python The Powerful Programming Language\n"
          ],
          "name": "stdout"
        }
      ]
    }
  ]
}