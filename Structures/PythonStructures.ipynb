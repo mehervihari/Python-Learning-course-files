{
  "nbformat": 4,
  "nbformat_minor": 0,
  "metadata": {
    "colab": {
      "name": "PythonStructures.ipynb",
      "provenance": [],
      "collapsed_sections": []
    },
    "kernelspec": {
      "name": "python3",
      "display_name": "Python 3"
    }
  },
  "cells": [
    {
      "cell_type": "code",
      "metadata": {
        "colab": {
          "base_uri": "https://localhost:8080/"
        },
        "id": "Pdx3DiRHxfdk",
        "outputId": "c1d1058d-a5a8-4879-d535-f3625cdc48a2"
      },
      "source": [
        "print (\"welcome to python structures\")"
      ],
      "execution_count": null,
      "outputs": [
        {
          "output_type": "stream",
          "text": [
            "welcome to python structures\n"
          ],
          "name": "stdout"
        }
      ]
    },
    {
      "cell_type": "code",
      "metadata": {
        "colab": {
          "base_uri": "https://localhost:8080/"
        },
        "id": "o43c_Qqc34U4",
        "outputId": "f2cd42f2-8840-4951-8f6c-7ae8517f1c33"
      },
      "source": [
        "# Lists and different functions in it\n",
        "pantSize_List = [24,28,30,32,34,36,38,40]\n",
        "print(sum(pantSize_List))"
      ],
      "execution_count": null,
      "outputs": [
        {
          "output_type": "stream",
          "text": [
            "262\n"
          ],
          "name": "stdout"
        }
      ]
    },
    {
      "cell_type": "code",
      "metadata": {
        "colab": {
          "base_uri": "https://localhost:8080/"
        },
        "id": "6F_9M2Qv6usg",
        "outputId": "299de51e-7519-4c55-f186-cb630ba78a38"
      },
      "source": [
        "listLen = len(pantSize_List)\n",
        "print(listLen)"
      ],
      "execution_count": null,
      "outputs": [
        {
          "output_type": "stream",
          "text": [
            "8\n"
          ],
          "name": "stdout"
        }
      ]
    },
    {
      "cell_type": "code",
      "metadata": {
        "colab": {
          "base_uri": "https://localhost:8080/"
        },
        "id": "VNDphphk59Qz",
        "outputId": "b1209132-6e0f-46dc-9664-2ebd66d452e3"
      },
      "source": [
        "print(max(pantSize_List), min(pantSize_List))"
      ],
      "execution_count": null,
      "outputs": [
        {
          "output_type": "stream",
          "text": [
            "40 24\n"
          ],
          "name": "stdout"
        }
      ]
    },
    {
      "cell_type": "code",
      "metadata": {
        "colab": {
          "base_uri": "https://localhost:8080/"
        },
        "id": "cY_amCZr9cVK",
        "outputId": "7df2b1c0-fca3-48e1-e4c7-42a7c3a181e3"
      },
      "source": [
        "# adding and deleting items from a list\n",
        "pantSize_List.append(42)\n",
        "del (pantSize_List[4])\n",
        "print(pantSize_List)\n",
        "pantSize_List.pop()"
      ],
      "execution_count": null,
      "outputs": [
        {
          "output_type": "stream",
          "text": [
            "[24, 28, 30, 32, 36, 38, 40, 42]\n"
          ],
          "name": "stdout"
        },
        {
          "output_type": "execute_result",
          "data": {
            "text/plain": [
              "42"
            ]
          },
          "metadata": {
            "tags": []
          },
          "execution_count": 22
        }
      ]
    },
    {
      "cell_type": "code",
      "metadata": {
        "colab": {
          "base_uri": "https://localhost:8080/"
        },
        "id": "bSFdo2nq_1Ow",
        "outputId": "1f5f0bbe-972c-4df0-ae42-75a74fe235a1"
      },
      "source": [
        "# Tuples are like lists but their data values are not modifiable\n",
        "year_months = ('jan','feb','march','april','may','june','july','aug','sept','oct','nov','dec')\n",
        "# access specific values of a tuple\n",
        "print(year_months[0])\n",
        "print(year_months[-12])\n"
      ],
      "execution_count": null,
      "outputs": [
        {
          "output_type": "stream",
          "text": [
            "jan\n",
            "jan\n"
          ],
          "name": "stdout"
        }
      ]
    },
    {
      "cell_type": "code",
      "metadata": {
        "colab": {
          "base_uri": "https://localhost:8080/"
        },
        "id": "RxY_sZTz0kG4",
        "outputId": "8d867e49-6ea9-493f-86ab-3822723c5b38"
      },
      "source": [
        "type(year_months)"
      ],
      "execution_count": null,
      "outputs": [
        {
          "output_type": "execute_result",
          "data": {
            "text/plain": [
              "tuple"
            ]
          },
          "metadata": {
            "tags": []
          },
          "execution_count": 10
        }
      ]
    },
    {
      "cell_type": "code",
      "metadata": {
        "colab": {
          "base_uri": "https://localhost:8080/",
          "height": 210
        },
        "id": "avSU3bdjBDjg",
        "outputId": "e2fb78b2-dc7e-4b62-e3c5-289d5841035f"
      },
      "source": [
        "# delete function\n",
        "del (year_months)\n",
        "print(year_months)"
      ],
      "execution_count": null,
      "outputs": [
        {
          "output_type": "error",
          "ename": "NameError",
          "evalue": "ignored",
          "traceback": [
            "\u001b[0;31m---------------------------------------------------------------------------\u001b[0m",
            "\u001b[0;31mNameError\u001b[0m                                 Traceback (most recent call last)",
            "\u001b[0;32m<ipython-input-7-0ddac9be2e19>\u001b[0m in \u001b[0;36m<module>\u001b[0;34m()\u001b[0m\n\u001b[1;32m      1\u001b[0m \u001b[0;31m# delete function\u001b[0m\u001b[0;34m\u001b[0m\u001b[0;34m\u001b[0m\u001b[0;34m\u001b[0m\u001b[0m\n\u001b[1;32m      2\u001b[0m \u001b[0;32mdel\u001b[0m \u001b[0;34m(\u001b[0m\u001b[0myear_months\u001b[0m\u001b[0;34m)\u001b[0m\u001b[0;34m\u001b[0m\u001b[0;34m\u001b[0m\u001b[0m\n\u001b[0;32m----> 3\u001b[0;31m \u001b[0mprint\u001b[0m\u001b[0;34m(\u001b[0m\u001b[0myear_months\u001b[0m\u001b[0;34m)\u001b[0m\u001b[0;34m\u001b[0m\u001b[0;34m\u001b[0m\u001b[0m\n\u001b[0m",
            "\u001b[0;31mNameError\u001b[0m: name 'year_months' is not defined"
          ]
        }
      ]
    },
    {
      "cell_type": "code",
      "metadata": {
        "colab": {
          "base_uri": "https://localhost:8080/"
        },
        "id": "F_NAuVTnBfzw",
        "outputId": "f4cccade-f4cc-40e8-ebf2-d44e05aa70bf"
      },
      "source": [
        "# \"in\" function in tuples\n",
        "1 in year_months"
      ],
      "execution_count": null,
      "outputs": [
        {
          "output_type": "execute_result",
          "data": {
            "text/plain": [
              "False"
            ]
          },
          "metadata": {
            "tags": []
          },
          "execution_count": 29
        }
      ]
    },
    {
      "cell_type": "code",
      "metadata": {
        "colab": {
          "base_uri": "https://localhost:8080/"
        },
        "id": "J0DldqZ-BLYe",
        "outputId": "7e0c4c88-c6a8-421e-944d-89fd76008f47"
      },
      "source": [
        "# ADDING TUPLES\n",
        "print(year_months + (1,2,3,4,5,6))"
      ],
      "execution_count": null,
      "outputs": [
        {
          "output_type": "stream",
          "text": [
            "('jan', 'feb', 'march', 'april', 'may', 'june', 'july', 'aug', 'sept', 'oct', 'nov', 'dec', 1, 2, 3, 4, 5, 6)\n"
          ],
          "name": "stdout"
        }
      ]
    },
    {
      "cell_type": "code",
      "metadata": {
        "colab": {
          "base_uri": "https://localhost:8080/"
        },
        "id": "uqk9-IsBCC5b",
        "outputId": "067a46b6-f104-4590-ce8e-0a7ddec1ca32"
      },
      "source": [
        "#convert the following tuple into useful string:\n",
        "my_tuple = ('P','y','t','h','o','n','P','r','o','g','r','a','m','m','i','n','g')\n",
        "my_string = \"\".join(my_tuple)\n",
        "print(my_string)\n",
        "#if we want to convert again into a tuple:\n",
        "myTuple = tuple(my_string)\n",
        "print(myTuple)\n",
        "#if we want to convert tuple into a list:\n",
        "my_list = list(myTuple)\n",
        "print(my_list)"
      ],
      "execution_count": null,
      "outputs": [
        {
          "output_type": "stream",
          "text": [
            "PythonProgramming\n",
            "('P', 'y', 't', 'h', 'o', 'n', 'P', 'r', 'o', 'g', 'r', 'a', 'm', 'm', 'i', 'n', 'g')\n",
            "['P', 'y', 't', 'h', 'o', 'n', 'P', 'r', 'o', 'g', 'r', 'a', 'm', 'm', 'i', 'n', 'g']\n"
          ],
          "name": "stdout"
        }
      ]
    },
    {
      "cell_type": "code",
      "metadata": {
        "colab": {
          "base_uri": "https://localhost:8080/"
        },
        "id": "9oFG4o3LKwPj",
        "outputId": "facb56ba-51e9-4202-8cd8-1269f95efad9"
      },
      "source": [
        "# dictionaries\n",
        "my_dict = {'key1':[20,80,50],'key2':[200,10,100],'key3':[300,20,400]}\n",
        "print(my_dict['key2'])\n",
        "print(my_dict.values())"
      ],
      "execution_count": null,
      "outputs": [
        {
          "output_type": "stream",
          "text": [
            "[200, 10, 100]\n",
            "dict_values([[20, 80, 50], [200, 10, 100], [300, 20, 400]])\n"
          ],
          "name": "stdout"
        }
      ]
    },
    {
      "cell_type": "code",
      "metadata": {
        "colab": {
          "base_uri": "https://localhost:8080/"
        },
        "id": "VIgP1znfUbyJ",
        "outputId": "c1d7c28e-110b-46d6-f00a-73669c41e4a1"
      },
      "source": [
        "# get function in dictionary for accesing\n",
        "my_dict.get('key1')"
      ],
      "execution_count": null,
      "outputs": [
        {
          "output_type": "execute_result",
          "data": {
            "text/plain": [
              "[20, 80, 50]"
            ]
          },
          "metadata": {
            "tags": []
          },
          "execution_count": 4
        }
      ]
    },
    {
      "cell_type": "code",
      "metadata": {
        "colab": {
          "base_uri": "https://localhost:8080/"
        },
        "id": "Rdr4CBAk6wGW",
        "outputId": "f275f853-ea78-49d8-a41c-b84fa8b84db5"
      },
      "source": [
        "# add new item to dict\n",
        "my_dict[\"key4\"] = [40]\n",
        "print(my_dict)"
      ],
      "execution_count": null,
      "outputs": [
        {
          "output_type": "stream",
          "text": [
            "{'key1': [20, 80, 50], 'key2': [200, 10, 100], 'key3': [300, 20, 400], 'key4': [40]}\n"
          ],
          "name": "stdout"
        }
      ]
    },
    {
      "cell_type": "code",
      "metadata": {
        "colab": {
          "base_uri": "https://localhost:8080/"
        },
        "id": "ROCU26dTLp0K",
        "outputId": "6c6207fe-52e4-4817-8c4f-7fe1ccddcd82"
      },
      "source": [
        "# sorting the dictionary\n",
        "a = my_dict.keys\n",
        "b = my_dict.values\n",
        "mydict_sort = {a:sorted(b) for a,b in my_dict.items()}\n",
        "print(mydict_sort)"
      ],
      "execution_count": null,
      "outputs": [
        {
          "output_type": "stream",
          "text": [
            "{'key1': [20, 50, 80], 'key2': [10, 100, 200], 'key3': [20, 300, 400], 'key4': [40]}\n"
          ],
          "name": "stdout"
        }
      ]
    },
    {
      "cell_type": "code",
      "metadata": {
        "colab": {
          "base_uri": "https://localhost:8080/"
        },
        "id": "y2YkoCLHVRwq",
        "outputId": "57fb1e14-9969-45f0-9b31-5ce451e5fd6d"
      },
      "source": [
        "# update function is used to Add one dictionary’s key-values pairs to another. Duplicates are removed.\n",
        "year_months = {\"January\" : 1, \"February\" : 2, \"March\" : 3, \"April\": 4, \"May\": 5, \"June\": 6}\n",
        "second_six_year_months = {\"July\": 7, \"August\": 8, \"September\": 9, \"October\": 10, \"November\": 11, \"December\": 12}\n",
        "year_months.update(second_six_year_months)\n",
        "print (year_months)"
      ],
      "execution_count": null,
      "outputs": [
        {
          "output_type": "stream",
          "text": [
            "{'January': 1, 'February': 2, 'March': 3, 'April': 4, 'May': 5, 'June': 6, 'July': 7, 'August': 8, 'September': 9, 'October': 10, 'November': 11, 'December': 12}\n"
          ],
          "name": "stdout"
        }
      ]
    },
    {
      "cell_type": "code",
      "metadata": {
        "colab": {
          "base_uri": "https://localhost:8080/"
        },
        "id": "S6OkbNW9OVBQ",
        "outputId": "47bd43aa-e3ca-46d3-a54e-e24b8786f322"
      },
      "source": [
        "# sets and operations in it\n",
        "my_colors = {\"green\",\"red\",\"yellow\",\"orange\",\"red\",\"blue\"}\n",
        "print(\"green\" in my_colors) #accessing\n",
        "print(\"red\" in my_colors)\n"
      ],
      "execution_count": null,
      "outputs": [
        {
          "output_type": "stream",
          "text": [
            "True\n",
            "True\n"
          ],
          "name": "stdout"
        }
      ]
    },
    {
      "cell_type": "code",
      "metadata": {
        "colab": {
          "base_uri": "https://localhost:8080/"
        },
        "id": "9_VebeYHPGaI",
        "outputId": "cac64283-91ab-45af-aec8-601640b69663"
      },
      "source": [
        "print(my_colors.pop()) # removes random element\n",
        "print(my_colors)"
      ],
      "execution_count": null,
      "outputs": [
        {
          "output_type": "stream",
          "text": [
            "orange\n",
            "{'blue', 'green', 'red', 'yellow'}\n"
          ],
          "name": "stdout"
        }
      ]
    },
    {
      "cell_type": "code",
      "metadata": {
        "id": "ZYO-Xs2D4Rit"
      },
      "source": [
        "# can add and remove items but not change them in sets"
      ],
      "execution_count": null,
      "outputs": []
    },
    {
      "cell_type": "code",
      "metadata": {
        "colab": {
          "base_uri": "https://localhost:8080/"
        },
        "id": "efippgEpQjIl",
        "outputId": "43ae3523-87e4-4ea5-c65d-fd243276a59b"
      },
      "source": [
        "# union of two sets\n",
        "a = {'red','green','yellow','blue'}\n",
        "b = {'red','blue','black'}\n",
        "c = a.union(b)\n",
        "print(c)\n",
        "d = a.intersection(b)\n",
        "print(d)"
      ],
      "execution_count": null,
      "outputs": [
        {
          "output_type": "stream",
          "text": [
            "{'yellow', 'green', 'red', 'black', 'blue'}\n",
            "{'red', 'blue'}\n"
          ],
          "name": "stdout"
        }
      ]
    }
  ]
}