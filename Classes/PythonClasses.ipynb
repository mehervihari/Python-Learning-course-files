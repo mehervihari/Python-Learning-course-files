{
  "nbformat": 4,
  "nbformat_minor": 0,
  "metadata": {
    "colab": {
      "name": "PythonClasses.ipynb",
      "provenance": [],
      "collapsed_sections": []
    },
    "kernelspec": {
      "name": "python3",
      "display_name": "Python 3"
    }
  },
  "cells": [
    {
      "cell_type": "code",
      "metadata": {
        "id": "lAogTBL5aRos"
      },
      "source": [
        "# instances of a class\n",
        "# init func to do the necessary ops when creating object\n",
        "# The self parameter :\n",
        "class Rectangle():\n",
        "    #length = 0\n",
        "    def __init__(self, length, width):\n",
        "        self.length = length\n",
        "        self.width = width\n",
        "\n",
        "    def rectArea(self):    \n",
        "        return (self.length * self.width)\n",
        "\n",
        "rect_1 = Rectangle(50, 30)\n",
        "rect_2 = Rectangle(140, 60)\n",
        "rect_3 = Rectangle(120, 70)\n",
        "rect_4 = Rectangle(100, 80)        "
      ],
      "execution_count": null,
      "outputs": []
    },
    {
      "cell_type": "code",
      "metadata": {
        "colab": {
          "base_uri": "https://localhost:8080/"
        },
        "id": "tDSy7XyZfaeB",
        "outputId": "b94b6948-fb91-4364-b190-7187357c1117"
      },
      "source": [
        "rect_1.rectArea()"
      ],
      "execution_count": null,
      "outputs": [
        {
          "output_type": "execute_result",
          "data": {
            "text/plain": [
              "1500"
            ]
          },
          "metadata": {
            "tags": []
          },
          "execution_count": 29
        }
      ]
    },
    {
      "cell_type": "code",
      "metadata": {
        "colab": {
          "base_uri": "https://localhost:8080/"
        },
        "id": "pyPsNa8yY2mw",
        "outputId": "486e7a0d-dbb6-4bda-f30d-4f24eacec4dc"
      },
      "source": [
        "rect_1.length = 60\n",
        "rect_1.rectArea()"
      ],
      "execution_count": null,
      "outputs": [
        {
          "output_type": "execute_result",
          "data": {
            "text/plain": [
              "1800"
            ]
          },
          "metadata": {
            "tags": []
          },
          "execution_count": 21
        }
      ]
    },
    {
      "cell_type": "code",
      "metadata": {
        "colab": {
          "base_uri": "https://localhost:8080/",
          "height": 173
        },
        "id": "vCU1fVSjf-Xi",
        "outputId": "1a731620-5b17-4da2-8dc1-b260bcc0a0f9"
      },
      "source": [
        "rect_2.length"
      ],
      "execution_count": null,
      "outputs": [
        {
          "output_type": "error",
          "ename": "AttributeError",
          "evalue": "ignored",
          "traceback": [
            "\u001b[0;31m---------------------------------------------------------------------------\u001b[0m",
            "\u001b[0;31mAttributeError\u001b[0m                            Traceback (most recent call last)",
            "\u001b[0;32m<ipython-input-14-287f42731bad>\u001b[0m in \u001b[0;36m<module>\u001b[0;34m()\u001b[0m\n\u001b[0;32m----> 1\u001b[0;31m \u001b[0mrect_2\u001b[0m\u001b[0;34m.\u001b[0m\u001b[0mlength\u001b[0m\u001b[0;34m\u001b[0m\u001b[0;34m\u001b[0m\u001b[0m\n\u001b[0m",
            "\u001b[0;31mAttributeError\u001b[0m: 'Rectangle' object has no attribute 'length'"
          ]
        }
      ]
    },
    {
      "cell_type": "code",
      "metadata": {
        "colab": {
          "base_uri": "https://localhost:8080/"
        },
        "id": "Wn0rqJt3gMFV",
        "outputId": "91df55fb-a66d-4a8b-dd0d-d6c1a8487cb9"
      },
      "source": [
        "type(rect_4)"
      ],
      "execution_count": null,
      "outputs": [
        {
          "output_type": "execute_result",
          "data": {
            "text/plain": [
              "__main__.Rectangle"
            ]
          },
          "metadata": {
            "tags": []
          },
          "execution_count": 3
        }
      ]
    },
    {
      "cell_type": "code",
      "metadata": {
        "id": "_fjYKTqdZvDa"
      },
      "source": [
        "#deleting objects\n",
        "del rect_4\n",
        "#type(rect_4)"
      ],
      "execution_count": null,
      "outputs": []
    },
    {
      "cell_type": "code",
      "metadata": {
        "id": "f8La2DaAgnq2"
      },
      "source": [
        "#class Fruits():\n",
        "#    def __init__(self, name, kind, color):\n",
        "#        self.name = name\n",
        "#        self.kind = kind\n",
        "#        self.color = color\n",
        "\n",
        "#    def __str__(self):\n",
        "#        return 'fruit name is: {}, is a {} type and is in {} color'.format(self.name, self.kind, self.color)   \n",
        "\n",
        "#fruit_1 = Fruits('Banana', 'regular', 'yellow')\n",
        "#fruit_2 = Fruits('Apple', 'rally', 'red-yellow')        "
      ],
      "execution_count": null,
      "outputs": []
    },
    {
      "cell_type": "code",
      "metadata": {
        "colab": {
          "base_uri": "https://localhost:8080/"
        },
        "id": "3qI6EEPzj6G-",
        "outputId": "0d20ec4c-1d0c-4b7f-9960-4e11f45bfc7d"
      },
      "source": [
        "#print(fruit_1)"
      ],
      "execution_count": null,
      "outputs": [
        {
          "output_type": "stream",
          "text": [
            "fruit name is: Banana, is a regular type and is in yellow color\n"
          ],
          "name": "stdout"
        }
      ]
    },
    {
      "cell_type": "code",
      "metadata": {
        "id": "kmKbB4sZm4zk"
      },
      "source": [
        "# inheritance in python\n",
        "class Basic_Plan():\n",
        "    can_stream = True\n",
        "    can_download = True\n",
        "    has_SD = True\n",
        "    has_HD = False\n",
        "    has_UHD = False \n",
        "    num_of_devices = 1\n",
        "    price = '$9.99'"
      ],
      "execution_count": null,
      "outputs": []
    },
    {
      "cell_type": "code",
      "metadata": {
        "id": "-lQSG242m-qB"
      },
      "source": [
        "class Standard_Plan(Basic_Plan):\n",
        "    has_HD = True\n",
        "    num_of_devices = 2\n",
        "    price = '$13.99'"
      ],
      "execution_count": null,
      "outputs": []
    },
    {
      "cell_type": "code",
      "metadata": {
        "id": "qEmhXSTznJ-R"
      },
      "source": [
        "class Premium_Plan(Standard_Plan):\n",
        "    has_UHD = True\n",
        "    num_of_devices = 4\n",
        "    price = '$16.99'"
      ],
      "execution_count": null,
      "outputs": []
    },
    {
      "cell_type": "code",
      "metadata": {
        "colab": {
          "base_uri": "https://localhost:8080/"
        },
        "id": "Gx2UE7DRREGw",
        "outputId": "435e2288-069c-4556-d4af-0ef8d0c8b12b"
      },
      "source": [
        "# Define a parent class, use inheritance to define gender in child classes of gender.\n",
        "#overridden\n",
        "class Person():\n",
        "    def getGender(self):\n",
        "        return 'Unknown'\n",
        "\n",
        "class Male(Person):\n",
        "    def getGender(self):\n",
        "        return 'Male'\n",
        "\n",
        "class Female(Person):\n",
        "    def getGender(self):\n",
        "        return 'Female'\n",
        "\n",
        "male = Male() \n",
        "female = Female()\n",
        "\n",
        "print(male.getGender())\n",
        "print(female.getGender())"
      ],
      "execution_count": null,
      "outputs": [
        {
          "output_type": "stream",
          "text": [
            "Male\n",
            "Female\n"
          ],
          "name": "stdout"
        }
      ]
    },
    {
      "cell_type": "code",
      "metadata": {
        "colab": {
          "base_uri": "https://localhost:8080/"
        },
        "id": "YVUrecofgagO",
        "outputId": "d9936625-ed97-4246-ff1d-4cc6b3f66bda"
      },
      "source": [
        "# 'super' keyword is used for single inheritance\n",
        "# for multiple inheritance, class names are used\n",
        "class Person:\n",
        "    def __init__(self, name, age):\n",
        "        self.name = name\n",
        "        self.age = age\n",
        "    def showName(self):\n",
        "        print(self.name)\n",
        "    def showAge(self):\n",
        "        print(self.age)\n",
        "\n",
        "class Students:\n",
        "    def __init__(self, student_id):\n",
        "        self.student_id = student_id\n",
        "    def show_id(self):\n",
        "        print(self.student_id)\n",
        "\n",
        "class NewStudent(Person, Students):\n",
        "    def __init__(self, name, age, student_id):\n",
        "        Person.__init__(self, name, age)\n",
        "        Students.__init__(self, student_id)\n",
        "\n",
        "new_student1 = NewStudent('Saro', 13, 911)\n",
        "new_student2 = NewStudent('Jana', 14, 100)  \n",
        "\n",
        "new_student1.showName()\n",
        "new_student2.show_id()"
      ],
      "execution_count": null,
      "outputs": [
        {
          "output_type": "stream",
          "text": [
            "Saro\n",
            "100\n"
          ],
          "name": "stdout"
        }
      ]
    },
    {
      "cell_type": "code",
      "metadata": {
        "colab": {
          "base_uri": "https://localhost:8080/"
        },
        "id": "g9ntsYofptwd",
        "outputId": "5b808aa4-49bf-4799-dd28-d4c91f0b63b8"
      },
      "source": [
        "# method overriding\n",
        "class Bus:\n",
        "    def __init__(self, model, speed, no_of_seats):\n",
        "        self.model = model\n",
        "        self.speed = speed\n",
        "        self.no_of_seats = no_of_seats # includes driver's and supervior's seats\n",
        "    def getPassengerSeats(self):\n",
        "        return self.no_of_seats - 2\n",
        "\n",
        "class SchoolBus(Bus):\n",
        "    def getPassengerSeats(self):\n",
        "        return self.no_of_seats - 3 # includes driver'sl extra driver's and supervior's seats\n",
        "\n",
        "schoolBus_1 = SchoolBus('VW', 50, 60)\n",
        "schoolBus_1.getPassengerSeats()"
      ],
      "execution_count": null,
      "outputs": [
        {
          "output_type": "execute_result",
          "data": {
            "text/plain": [
              "57"
            ]
          },
          "metadata": {
            "tags": []
          },
          "execution_count": 1
        }
      ]
    },
    {
      "cell_type": "code",
      "metadata": {
        "colab": {
          "base_uri": "https://localhost:8080/"
        },
        "id": "os6YD_SDjFzV",
        "outputId": "cc9caf37-fbae-46ab-e5fe-cca186fd6cbb"
      },
      "source": [
        "class Fruit:\n",
        "    def __init__(self, name, color,):\n",
        "        self.name = name\n",
        "        self.color = color\n",
        "        self.fruit_type = self.name + ' has ' + self.color + ' color'\n",
        "\n",
        "citrus = Fruit(\"lemon\", \"yellow\")\n",
        "print(citrus.name)\n",
        "print(citrus.color)\n",
        "print(citrus.fruit_type)\n",
        "\n",
        "citrus.name = \"orange\"\n",
        "citrus.color = \"vorange\"\n",
        "print(citrus.name)\n",
        "print(citrus.color)\n",
        "print(citrus.fruit_type)"
      ],
      "execution_count": null,
      "outputs": [
        {
          "output_type": "stream",
          "text": [
            "lemon\n",
            "yellow\n",
            "lemon has yellow color\n",
            "orange\n",
            "vorange\n",
            "lemon has yellow color\n"
          ],
          "name": "stdout"
        }
      ]
    },
    {
      "cell_type": "code",
      "metadata": {
        "colab": {
          "base_uri": "https://localhost:8080/"
        },
        "id": "izSRRXTBlhYF",
        "outputId": "ad7da66a-20bd-4ca5-ab69-b3643743ff59"
      },
      "source": [
        "class Fruit:\n",
        "    def __init__(self, name, color,):\n",
        "        self.name = name\n",
        "        self.color = color\n",
        "\n",
        "    @property\n",
        "    def fruit_type(self):    \n",
        "        return self.name + ' has ' + self.color + ' color'\n",
        "\n",
        "citrus = Fruit(\"lemon\", \"yellow\")\n",
        "print(citrus.name)\n",
        "print(citrus.color)\n",
        "print(citrus.fruit_type)\n",
        "\n",
        "citrus.name = \"orange\"\n",
        "print(citrus.name)\n",
        "print(citrus.color)\n",
        "print(citrus.fruit_type)"
      ],
      "execution_count": null,
      "outputs": [
        {
          "output_type": "stream",
          "text": [
            "lemon\n",
            "yellow\n",
            "lemon has yellow color\n",
            "orange\n",
            "yellow\n",
            "orange has yellow color\n"
          ],
          "name": "stdout"
        }
      ]
    },
    {
      "cell_type": "code",
      "metadata": {
        "id": "V9SEMXkbm6iY"
      },
      "source": [
        "class concertTicket:\n",
        "    SECTIONS = {'lower', 'premier', 'mezzanine', 'floor'}\n",
        "    def __init__(self, ticket_price, ticket_section):\n",
        "        self.ticket_price = ticket_price\n",
        "        self.ticket_section = ticket_section\n",
        "\n",
        "    @property\n",
        "    def price(self):\n",
        "        return self.ticket_price\n",
        "    @property\n",
        "    def section(self):       \n",
        "         return self.ticket_section\n",
        "\n",
        "    @section.setter    \n",
        "    def section(self, ticket_section):\n",
        "        if ticket_section not in self.SECTIONS:\n",
        "            raise ValueError('invalid section \"{}\"'.format(ticket_section))\n",
        "        self.ticket_section = ticket_section\n",
        "\n",
        "    if __name__ == '__main__':\n",
        "        import doctest\n",
        "        doctest.testmod()         "
      ],
      "execution_count": null,
      "outputs": []
    }
  ]
}