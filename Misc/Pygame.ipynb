{
 "cells": [
  {
   "cell_type": "code",
   "execution_count": 1,
   "id": "internal-crowd",
   "metadata": {},
   "outputs": [
    {
     "ename": "ModuleNotFoundError",
     "evalue": "No module named 'pygame'",
     "output_type": "error",
     "traceback": [
      "\u001b[1;31m---------------------------------------------------------------------------\u001b[0m",
      "\u001b[1;31mModuleNotFoundError\u001b[0m                       Traceback (most recent call last)",
      "\u001b[1;32m<ipython-input-1-22b635851fec>\u001b[0m in \u001b[0;36m<module>\u001b[1;34m\u001b[0m\n\u001b[1;32m----> 1\u001b[1;33m \u001b[1;32mimport\u001b[0m \u001b[0mpygame\u001b[0m\u001b[1;33m\u001b[0m\u001b[1;33m\u001b[0m\u001b[0m\n\u001b[0m\u001b[0;32m      2\u001b[0m \u001b[1;32mfrom\u001b[0m \u001b[0mpygame\u001b[0m\u001b[1;33m.\u001b[0m\u001b[0mlocals\u001b[0m \u001b[1;32mimport\u001b[0m\u001b[1;33m*\u001b[0m\u001b[1;33m\u001b[0m\u001b[1;33m\u001b[0m\u001b[0m\n\u001b[0;32m      3\u001b[0m \u001b[1;32mimport\u001b[0m \u001b[0msys\u001b[0m\u001b[1;33m\u001b[0m\u001b[1;33m\u001b[0m\u001b[0m\n\u001b[0;32m      4\u001b[0m \u001b[1;33m\u001b[0m\u001b[0m\n\u001b[0;32m      5\u001b[0m \u001b[1;31m#initialise pygame module, 7 submodule initiated and 0 failed\u001b[0m\u001b[1;33m\u001b[0m\u001b[1;33m\u001b[0m\u001b[1;33m\u001b[0m\u001b[0m\n",
      "\u001b[1;31mModuleNotFoundError\u001b[0m: No module named 'pygame'"
     ]
    }
   ],
   "source": [
    "import pygame\n",
    "from pygame.locals import*\n",
    "import sys\n",
    "\n",
    "#initialise pygame module, 7 submodule initiated and 0 failed\n",
    "pygame.init()\n",
    "pygame.font.init()\n",
    "\n",
    "display_width = 800\n",
    "display_height = 600\n",
    "\n",
    "game_display = pygame.display.set_mode((display_width, display_height))\n",
    "\n",
    "def event_handler():\n",
    "    for event in pygame.event.get():\n",
    "        print(event)\n",
    "        if event.type == QUIT or (\n",
    "            event.type == KEYDOWN and (\n",
    "            event.key == K_ESCAPE or \n",
    "            event.key == K_q)):\n",
    "            pygame.quit()\n",
    "            quit()\n",
    "            \n",
    "while True:\n",
    "    event_handler()\n",
    "    pygame.display().update()            "
   ]
  },
  {
   "cell_type": "code",
   "execution_count": null,
   "id": "stopped-memory",
   "metadata": {},
   "outputs": [],
   "source": []
  }
 ],
 "metadata": {
  "kernelspec": {
   "display_name": "Python 3",
   "language": "python",
   "name": "python3"
  },
  "language_info": {
   "codemirror_mode": {
    "name": "ipython",
    "version": 3
   },
   "file_extension": ".py",
   "mimetype": "text/x-python",
   "name": "python",
   "nbconvert_exporter": "python",
   "pygments_lexer": "ipython3",
   "version": "3.8.8"
  }
 },
 "nbformat": 4,
 "nbformat_minor": 5
}
