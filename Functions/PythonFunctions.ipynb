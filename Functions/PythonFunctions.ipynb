{
  "nbformat": 4,
  "nbformat_minor": 0,
  "metadata": {
    "colab": {
      "name": "PythonFunctions.ipynb",
      "provenance": [],
      "collapsed_sections": []
    },
    "kernelspec": {
      "name": "python3",
      "display_name": "Python 3"
    }
  },
  "cells": [
    {
      "cell_type": "code",
      "metadata": {
        "id": "aRKylX_P8PU1",
        "colab": {
          "base_uri": "https://localhost:8080/"
        },
        "outputId": "b2a7e01a-dd8b-4d41-9032-6d80fb340e72"
      },
      "source": [
        "print (\"welcome to python functions\")"
      ],
      "execution_count": null,
      "outputs": [
        {
          "output_type": "stream",
          "text": [
            "welcome to python functions\n"
          ],
          "name": "stdout"
        }
      ]
    },
    {
      "cell_type": "code",
      "metadata": {
        "colab": {
          "base_uri": "https://localhost:8080/"
        },
        "id": "f3dByiV7bF5J",
        "outputId": "f884af28-7e1f-42df-fc23-b02337a1b551"
      },
      "source": [
        "# functions in python\n",
        "def max_num(your_list):\n",
        "  max_ = max(your_list)\n",
        "  return max_\n",
        "\n",
        "nums = [2000,10000,500000,1000000,20000000]\n",
        "max_num(nums)  \n"
      ],
      "execution_count": null,
      "outputs": [
        {
          "output_type": "execute_result",
          "data": {
            "text/plain": [
              "20000000"
            ]
          },
          "metadata": {
            "tags": []
          },
          "execution_count": 4
        }
      ]
    },
    {
      "cell_type": "code",
      "metadata": {
        "colab": {
          "base_uri": "https://localhost:8080/"
        },
        "id": "Rgg1_4OGdGT9",
        "outputId": "6e28c21b-062e-4cda-89c3-427be15431c3"
      },
      "source": [
        "# lambda expression in python\n",
        "\n",
        "en = lambda a : a % 2 == 0\n",
        "print(en(444))"
      ],
      "execution_count": null,
      "outputs": [
        {
          "output_type": "stream",
          "text": [
            "True\n"
          ],
          "name": "stdout"
        }
      ]
    },
    {
      "cell_type": "code",
      "metadata": {
        "colab": {
          "base_uri": "https://localhost:8080/"
        },
        "id": "ZjalwEV9dg0d",
        "outputId": "0e64483a-01fc-4b78-f2b4-491eb2f03b4b"
      },
      "source": [
        "n = lambda a,b : a % b\n",
        "print(n(5,2))"
      ],
      "execution_count": null,
      "outputs": [
        {
          "output_type": "stream",
          "text": [
            "True\n"
          ],
          "name": "stdout"
        }
      ]
    },
    {
      "cell_type": "code",
      "metadata": {
        "colab": {
          "base_uri": "https://localhost:8080/"
        },
        "id": "QylO5bsGKApq",
        "outputId": "13357574-7a25-48c4-a99e-4e1a8fefd06b"
      },
      "source": [
        "#lambda is better shown when you use them as an anonymous function inside another function.\n",
        "def myMultipler(n):\n",
        "  return lambda a : a * n \n",
        "\n",
        "my_tripler = myMultipler(3)  \n",
        "print(my_tripler(11))"
      ],
      "execution_count": null,
      "outputs": [
        {
          "output_type": "stream",
          "text": [
            "33\n"
          ],
          "name": "stdout"
        }
      ]
    }
  ]
}