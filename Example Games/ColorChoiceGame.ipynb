{
  "nbformat": 4,
  "nbformat_minor": 0,
  "metadata": {
    "colab": {
      "name": "ColorChoiceGame.ipynb",
      "provenance": []
    },
    "kernelspec": {
      "name": "python3",
      "display_name": "Python 3"
    }
  },
  "cells": [
    {
      "cell_type": "code",
      "metadata": {
        "colab": {
          "base_uri": "https://localhost:8080/"
        },
        "id": "cNuna3Phc_L0",
        "outputId": "a4e16f48-34b0-403b-e182-2b890b1f3075"
      },
      "source": [
        "# importing random module\n",
        "import random\n",
        "print(\"Winning rules of the Color Choices Games are as follows:\" + \"\\nEnter a number from one to five and match computer's choice to Win the computer.\")\n",
        "computer_score = 0;\n",
        "player_score = 0;\n",
        "\n",
        "while True:\n",
        "    print(\"red = 1 \\nyellow = 2 \\norange = 3 \\ngreen = 4 \\nblue = 5 \\ntake a turn: \")\n",
        "\n",
        "  # taking input from player\n",
        "    player_input = int(input(\"User Turn: \"))\n",
        "\n",
        "  # looping until player choice is valid\n",
        "    while player_input > 5 or player_input < 1:\n",
        "        player_input = int(input(\"enter valid input: \"))\n",
        "\n",
        "  # initialising play_col_choice variable correspoding to player color choice\n",
        "    if player_input == 1:\n",
        "        play_col_choice = 'red'\n",
        "    elif player_input == 2:\n",
        "        play_col_choice = 'yellow'\n",
        "    elif player_input == 3: \n",
        "        play_col_choice = 'orange'\n",
        "    elif player_input == 4: \n",
        "        play_col_choice = 'green'    \n",
        "    else: \n",
        "        play_col_choice = 'blue'\n",
        "\n",
        "  # print user choice  \n",
        "    print(\"user color choice is: \" + play_col_choice) \n",
        "    print(\"\\nNow its computer turn to choose a color.......\")     \n",
        "\n",
        "  # computer chooses random number between 1 and 5 using randint method of random module\n",
        "    computer_input = random.randint(1, 5)\n",
        "\n",
        "  # looping until computer's choice is equal to choice value\n",
        "    while computer_input == player_input:\n",
        "        computer_input = random.randint(1, 5)\n",
        "\n",
        "  # initialising the comp_color_choice variable correspoding to computer's color choice\n",
        "    if computer_input == 1: \n",
        "        comp_col_choice = 'red'\n",
        "    elif computer_input == 2: \n",
        "        comp_col_choice = 'yellow'\n",
        "    elif computer_input == 3: \n",
        "        comp_col_choice = 'orange'\n",
        "    elif computer_input == 4: \n",
        "        comp_col_choice = 'green'    \n",
        "    else: \n",
        "        comp_col_choice = 'blue'\n",
        "          \n",
        "    print(\"Computer color choice is: \" + comp_col_choice)\n",
        "\n",
        "  # winnings conditions\n",
        "    if play_col_choice == comp_col_choice:\n",
        "        player_score += 1\n",
        "        print(\"player_score: \" + str(player_score))\n",
        "        print(\"computer_score: \" + str(computer_score))\n",
        "    else:\n",
        "        computer_score += 1\n",
        "        print(\"player_score: \" + str(player_score))\n",
        "        print(\"computer_score: \" +str(computer_score))\n",
        "    \n",
        "    print(\"Do you want to play again? (Y/N)\")\n",
        "    answer = input()\n",
        "\n",
        "    if answer == 'n' or answer == 'N':\n",
        "        break\n",
        "\n",
        "# coming out of while loop and printing thanks message\n",
        "if (player_score == computer_score):\n",
        "    print(\"Game is tied\")\n",
        "    print(\"\\n Thanks for playing\")\n",
        "elif computer_score < player_score:\n",
        "    print(\"Player is Victorious\")\n",
        "    print(\"<== User wins ==>\")\n",
        "    print(\"\\nThanks for playing\")\n",
        "elif computer_score > player_score:\n",
        "    print(\"\\n<== Computer wins ==>\")\n",
        "    print(\"\\nPlayer is Defeated\")\n",
        "    print(\"\\nThanks for playing\")         "
      ],
      "execution_count": null,
      "outputs": [
        {
          "output_type": "stream",
          "text": [
            "Winning rules of the Color Choices Games are as follows:\n",
            "Enter a number from one to five and match computer's choice to Win the computer.\n",
            "red = 1 \n",
            "yellow = 2 \n",
            "orange = 3 \n",
            "green = 4 \n",
            "blue = 5 \n",
            "take a turn: \n",
            "User Turn: 2\n",
            "user color choice is: yellow\n",
            "\n",
            "Now its computer turn to choose a color.......\n",
            "Computer color choice is: orange\n",
            "player_score: 0\n",
            "computer_score: 1\n",
            "Do you want to play again? (Y/N)\n",
            "n\n",
            "\n",
            "<== Computer wins ==>\n",
            "\n",
            "Player is Defeated\n",
            "\n",
            "Thanks for playing\n"
          ],
          "name": "stdout"
        }
      ]
    },
    {
      "cell_type": "code",
      "metadata": {
        "id": "UMAgjcBW-jiq"
      },
      "source": [
        "from google.colab import drive\n",
        "drive.mount('/content/drive')"
      ],
      "execution_count": null,
      "outputs": []
    }
  ]
}