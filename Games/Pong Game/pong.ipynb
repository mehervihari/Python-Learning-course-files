{
  "nbformat": 4,
  "nbformat_minor": 0,
  "metadata": {
    "colab": {
      "name": "pong.ipynb",
      "provenance": []
    },
    "kernelspec": {
      "name": "python3",
      "display_name": "Python 3"
    }
  },
  "cells": [
    {
      "cell_type": "code",
      "metadata": {
        "colab": {
          "base_uri": "https://localhost:8080/",
          "height": 395
        },
        "id": "2VJ3k_0Pawiw",
        "outputId": "d6a9f3f0-7a14-46f6-8436-628c585d1da3"
      },
      "source": [
        "import pygame\n",
        "from pygame import*\n",
        "import sys\n",
        "from paddle import Paddle\n",
        "\n",
        "pygame.init()\n",
        "\n",
        "# game variables\n",
        "black = (0,0,0)\n",
        "white = (255,255,255)\n",
        "size = (800,600)\n",
        "game_display = pygame.display.set_mode(size)\n",
        "pygame.display.set_caption('pong')\n",
        "\n",
        "paddle1 = Paddle(white, 10, 100)\n",
        "paddle1.rect.x = 25\n",
        "paddle1.rect.y = 250\n",
        "\n",
        "paddle2 = Paddle(white, 10, 100)\n",
        "paddle2.rect.x = 765\n",
        "paddle2.rect.y = 250\n",
        "\n",
        "# for game's time\n",
        "clock = pygame.time.Clock()\n",
        "\n",
        "game_on = True\n",
        "\n",
        "sprites_list = pygame.sprite.Group()\n",
        "\n",
        "sprites_list.add(paddle1)\n",
        "sprites_list.add(paddle2)\n",
        "\n",
        "while game_on:\n",
        "    for event in pygame.event.get():\n",
        "        if event.type == pygame.QUIT:\n",
        "            game_on = False\n",
        "\n",
        "    keys = pygame.key.get_pressed()\n",
        "\n",
        "    if keys[pygame.K_W]:\n",
        "        paddle1.paddles_moving_up(7)\n",
        "\n",
        "    if keys[pygame.K_S]:\n",
        "        paddle1.paddles_moving_down(7)\n",
        "\n",
        "    if keys[pygame.K_UP]:\n",
        "        paddle2.paddles_moving_up(7)\n",
        "\n",
        "    if keys[pygame.K_DOWN]:\n",
        "        paddle2.paddles_moving_down(7)\n",
        "\n",
        "    sprites_list.update()\n",
        "    game_display.fill(black)\n",
        "\n",
        "    pygame.draw.line(game_display, white, [400,0], [400,600], 5)\n",
        "    sprites_list.draw(game_display)\n",
        "\n",
        "    pygame.display.update()\n",
        "\n",
        "    clock.tick(60)\n",
        "\n",
        "pygame.quit()\n"
      ],
      "execution_count": null,
      "outputs": [
        {
          "output_type": "error",
          "ename": "ModuleNotFoundError",
          "evalue": "ignored",
          "traceback": [
            "\u001b[0;31m---------------------------------------------------------------------------\u001b[0m",
            "\u001b[0;31mModuleNotFoundError\u001b[0m                       Traceback (most recent call last)",
            "\u001b[0;32m<ipython-input-1-a458af7d90f5>\u001b[0m in \u001b[0;36m<module>\u001b[0;34m()\u001b[0m\n\u001b[0;32m----> 1\u001b[0;31m \u001b[0;32mimport\u001b[0m \u001b[0mpygame\u001b[0m\u001b[0;34m\u001b[0m\u001b[0;34m\u001b[0m\u001b[0m\n\u001b[0m\u001b[1;32m      2\u001b[0m \u001b[0;32mfrom\u001b[0m \u001b[0mpygame\u001b[0m \u001b[0;32mimport\u001b[0m\u001b[0;34m*\u001b[0m\u001b[0;34m\u001b[0m\u001b[0;34m\u001b[0m\u001b[0m\n\u001b[1;32m      3\u001b[0m \u001b[0;32mimport\u001b[0m \u001b[0msys\u001b[0m\u001b[0;34m\u001b[0m\u001b[0;34m\u001b[0m\u001b[0m\n\u001b[1;32m      4\u001b[0m \u001b[0;32mfrom\u001b[0m \u001b[0mpaddle\u001b[0m \u001b[0;32mimport\u001b[0m \u001b[0mPaddle\u001b[0m\u001b[0;34m\u001b[0m\u001b[0;34m\u001b[0m\u001b[0m\n\u001b[1;32m      5\u001b[0m \u001b[0;34m\u001b[0m\u001b[0m\n",
            "\u001b[0;31mModuleNotFoundError\u001b[0m: No module named 'pygame'",
            "",
            "\u001b[0;31m---------------------------------------------------------------------------\u001b[0;32m\nNOTE: If your import is failing due to a missing package, you can\nmanually install dependencies using either !pip or !apt.\n\nTo view examples of installing some common dependencies, click the\n\"Open Examples\" button below.\n\u001b[0;31m---------------------------------------------------------------------------\u001b[0m\n"
          ]
        }
      ]
    }
  ]
}